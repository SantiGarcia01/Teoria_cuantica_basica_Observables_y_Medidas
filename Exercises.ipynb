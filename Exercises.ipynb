{
 "cells": [
  {
   "cell_type": "markdown",
   "metadata": {},
   "source": [
    "## Simule el primer sistema cuántico descrito en la sección 4.1. ##\n",
    "\n",
    "El sistema consiste en una partícula confinada a un conjunto discreto de posiciones en una línea. El simulador debe permitir especificar el número de posiciones y un vector ket de estado asignando las amplitudes.\n",
    "\n",
    "1. El sistema debe calcular la probabilidad de encontrarlo en una posición en particular.\n",
    "\n",
    "# R/: #"
   ]
  },
  {
   "cell_type": "code",
   "execution_count": 2,
   "metadata": {},
   "outputs": [
    {
     "name": "stdout",
     "output_type": "stream",
     "text": [
      " La probabilidad de encontrarlo en una posición en particular es: 9.239130434782608 %\n"
     ]
    }
   ],
   "source": [
    "import numpy as np\n",
    "\n",
    "def norm(a):\n",
    "    norm_value = np.linalg.norm(a)\n",
    "    return norm_value\n",
    "\n",
    "def position_probability(ket, position):\n",
    "    numerator = norm(ket[position]) ** 2\n",
    "    denominator = norm(ket) ** 2\n",
    "    return numerator / denominator\n",
    "\n",
    "def main():\n",
    "    ket = np.array([[8-1j], [5-3j], [1+4j], [8+2j]])\n",
    "    probability = position_probability(ket, 2)\n",
    "    print(\" La probabilidad de encontrarlo en una posición en particular es:\", probability * 100, \"%\")\n",
    "main()"
   ]
  },
  {
   "cell_type": "markdown",
   "metadata": {},
   "source": [
    "2. El sistema si se le da otro vector Ket debe buscar la probabilidad de transitar del primer vector al segundo.\n",
    "\n",
    "# R/: #"
   ]
  },
  {
   "cell_type": "code",
   "execution_count": 6,
   "metadata": {},
   "outputs": [
    {
     "name": "stdout",
     "output_type": "stream",
     "text": [
      "La probabilidad de transitar del vector [[1.-4.j]\n",
      " [5.+1.j]] al vector [[2.+4.j]\n",
      " [1.-6.j]] es: 586.0000000000002\n"
     ]
    }
   ],
   "source": [
    "import numpy as np\n",
    "\n",
    "def transition_probability(ket1, ket2):\n",
    "    inner_product = np.vdot(ket2, ket1)\n",
    "    transition_prob = np.abs(inner_product)**2\n",
    "    return transition_prob\n",
    "\n",
    "def main():\n",
    "    ket1 = np.array([[1-4j], [5+1j]])\n",
    "    ket2 = np.array([[2+4j], [1-6j]])\n",
    "    transition_f = transition_probability(ket1, ket2)\n",
    "    print(f\"La probabilidad de transitar del vector {ket1} al vector {ket2} es:\", transition_f)\n",
    "\n",
    "main()\n"
   ]
  },
  {
   "cell_type": "markdown",
   "metadata": {},
   "source": [
    "## Complete los retos de programación del capítulo 4. ##\n",
    "\n",
    "1. Amplitud de transición. El sistema puede recibir dos vectores y calcular la probabilidad de transitar de el uno al otro después de hacer la observación.\n",
    "\n",
    "# R/: #"
   ]
  },
  {
   "cell_type": "code",
   "execution_count": 2,
   "metadata": {},
   "outputs": [
    {
     "name": "stdout",
     "output_type": "stream",
     "text": [
      "Amplitud de transición: (-0.2547550855426266+0.29394817562610775j)\n"
     ]
    }
   ],
   "source": [
    "import numpy as np\n",
    "\n",
    "def is_normalized(ket, tol=1e-10):\n",
    "    norm = np.linalg.norm(ket)\n",
    "    return np.abs(norm - 1) < tol\n",
    "\n",
    "def normalize_if_needed(ket):\n",
    "    if not is_normalized(ket):\n",
    "        ket = normalize(ket)\n",
    "    return ket\n",
    "\n",
    "def normalize(ket):\n",
    "    norm = np.linalg.norm(ket)\n",
    "    return ket / norm\n",
    "\n",
    "def transition_amplitude(ket1, ket2):\n",
    "    amplitude = np.vdot(ket2, ket1)\n",
    "    return amplitude\n",
    "\n",
    "def main():\n",
    "    ket1 = np.array([[2-1j], [0+3j]])\n",
    "    ket2 = np.array([[1+1j], [2-1.2j]])\n",
    "\n",
    "    ket1 = normalize_if_needed(ket1)\n",
    "    ket2 = normalize_if_needed(ket2)\n",
    "\n",
    "    amplitude = transition_amplitude(ket1, ket2)\n",
    "    print(f\"Amplitud de transición: {amplitude}\")\n",
    "\n",
    "main()\n"
   ]
  },
  {
   "cell_type": "markdown",
   "metadata": {},
   "source": [
    "2. Ahora con una matriz que describa un observable y un vector ket, el sistema revisa que la matriz sea hermitiana, y si lo es, calcula la media y la varianza del observable en el estado dado.\n",
    "\n",
    "# R/:"
   ]
  },
  {
   "cell_type": "code",
   "execution_count": 3,
   "metadata": {},
   "outputs": [
    {
     "name": "stdout",
     "output_type": "stream",
     "text": [
      "La matriz es hermitiana\n",
      "Expected value ⟨A⟩: (31+0j)\n",
      "Variance: (-834+0j)\n"
     ]
    }
   ],
   "source": [
    "import numpy as np\n",
    "\n",
    "def is_hermitian(matrix, tol=1e-10):\n",
    "    return np.allclose(matrix, np.conjugate(matrix.T), atol=tol)\n",
    "\n",
    "def expectation_value(matrix, ket):\n",
    "    return np.vdot(ket, np.dot(matrix, ket))\n",
    "\n",
    "def variance(matrix, ket):\n",
    "    expectation = expectation_value(matrix, ket)\n",
    "    \n",
    "    matrix_squared = np.dot(matrix, matrix)\n",
    "    expectation_squared = expectation_value(matrix_squared, ket)\n",
    "    \n",
    "    variance = expectation_squared - np.abs(expectation)**2\n",
    "    \n",
    "    return variance\n",
    "\n",
    "observable = np.array([[1, 2j, 0],\n",
    "                       [-2j, 3, 0],\n",
    "                       [0, 0, 2]])\n",
    "\n",
    "ket = [1+0j, 3+1j, 1+1j]\n",
    "\n",
    "if is_hermitian(observable):\n",
    "    print(\"La matriz es hermitiana\")\n",
    "    \n",
    "    expected_value = expectation_value(observable, ket)\n",
    "    print(f\"Valor esperado ⟨A⟩: {expected_value}\")\n",
    "    \n",
    "    var = variance(observable, ket)\n",
    "    print(f\"Varianza: {var}\")\n",
    "else:\n",
    "    print(\"La matriz no es hermitiana\")\n"
   ]
  },
  {
   "cell_type": "markdown",
   "metadata": {},
   "source": [
    "3. El sistema calcula los valores propios del observable y la probabilidad de que el sistema transite a alguno de los vectores propios después de la observación.\n",
    "\n",
    "# R/:"
   ]
  },
  {
   "cell_type": "code",
   "execution_count": 5,
   "metadata": {},
   "outputs": [
    {
     "name": "stdout",
     "output_type": "stream",
     "text": [
      "La matriz no es hermitiana\n"
     ]
    }
   ],
   "source": [
    "import numpy as np\n",
    "\n",
    "def is_hermitian(matrix, tol=1e-10):\n",
    "    return np.allclose(matrix, np.conjugate(matrix.T), atol=tol)\n",
    "\n",
    "def eigenvalues_and_eigenvectors(matrix):\n",
    "    eigenvalues, eigenvectors = np.linalg.eigh(matrix)\n",
    "    return eigenvalues, eigenvectors\n",
    "\n",
    "def transition_probabilities_to_eigenstates(ket, eigenvectors):\n",
    "    ket = np.array(ket, dtype=complex)\n",
    "    probabilities = []\n",
    "    \n",
    "    for eigenvector in eigenvectors.T:\n",
    "        amplitude = np.vdot(eigenvector, ket)\n",
    "        probability = np.abs(amplitude)**2\n",
    "        probabilities.append(probability)\n",
    "    \n",
    "    return probabilities\n",
    "\n",
    "\n",
    "observable = np.array([[3, 1j, 0],\n",
    "                       [-4j, 3, 0],\n",
    "                       [0, 0, 4]])\n",
    "\n",
    "ket = [2+0j, 2+5j, 1+0j]\n",
    "\n",
    "if is_hermitian(observable):\n",
    "    print(\"La matriz es hermitiana\")\n",
    "    \n",
    "    eigenvalues, eigenvectors = eigenvalues_and_eigenvectors(observable)\n",
    "    print(f\"Eigenvalues: {eigenvalues}\")\n",
    "    print(f\"Eigenvectors:\\n{eigenvectors}\")\n",
    "    \n",
    "    transition_probs = transition_probabilities_to_eigenstates(ket, eigenvectors)\n",
    "    \n",
    "    for i, prob in enumerate(transition_probs):\n",
    "        print(f\"Probabilidad de transitar al vector propio {i}: {prob}\")\n",
    "else:\n",
    "    print(\"La matriz no es hermitiana\")\n"
   ]
  },
  {
   "cell_type": "markdown",
   "metadata": {},
   "source": [
    "Exercise 4.3.1 Find all the possible states the system described in Exercise 4.2.2 can transition into after a measurement has been carried out.\n",
    "\n",
    "# R/:"
   ]
  },
  {
   "cell_type": "code",
   "execution_count": 11,
   "metadata": {},
   "outputs": [
    {
     "name": "stdout",
     "output_type": "stream",
     "text": [
      "Eigenvalues:\n",
      "[2.+0.j 1.+0.j]\n",
      "\n",
      "Eigenvectors:\n",
      "[[ 1.        +0.j  0.70710678+0.j]\n",
      " [ 0.        +0.j -0.70710678-0.j]]\n",
      "Esto significa que hay dos posibles estados a los que se puede transitar, spin up y spin down, sin embargo el observable hara que siempre sea spin down\n"
     ]
    }
   ],
   "source": [
    "import numpy as np\n",
    "\n",
    "Sx = np.array([[2, 1],[0, 1]], dtype=complex)\n",
    "\n",
    "eigenvalues, eigenvectors = np.linalg.eig(Sx)\n",
    "\n",
    "print(\"Eigenvalues:\")\n",
    "print(eigenvalues)\n",
    "print(\"\\nEigenvectors:\")\n",
    "print(eigenvectors)\n",
    "print(\"Esto significa que hay dos posibles estados a los que se puede transitar, spin up y spin down, sin embargo el observable hara que siempre sea spin down\")\n"
   ]
  },
  {
   "cell_type": "markdown",
   "metadata": {},
   "source": [
    "4.4.1 Exercise 4.4.1 Verifique que: $ \\begin{bmatrix} 0 &1 \\\\ 1 &0 \\end{bmatrix} $ $ \\begin{bmatrix} √2/2 & √2/2 \\\\ √2/2 & -√2/2 \\end{bmatrix} $\n",
    "  \n",
    " \n",
    "son matrices unitarias. Multiplícalos y verifica que su producto también sea unitario.\n",
    "\n",
    "# R/: #"
   ]
  },
  {
   "cell_type": "code",
   "execution_count": 14,
   "metadata": {},
   "outputs": [
    {
     "name": "stdout",
     "output_type": "stream",
     "text": [
      "Matriz 1 unitaria= True\n",
      "Matriz 2 unitaria= True\n",
      "Producto unitario= True\n"
     ]
    }
   ],
   "source": [
    "import numpy as np\n",
    "\n",
    "def is_unitary(matrix):\n",
    "    if matrix.shape[0] != matrix.shape[1]:\n",
    "        return False\n",
    "    identity = np.eye(matrix.shape[0])\n",
    "    product = np.dot(matrix, matrix.conj().T)\n",
    "    return np.allclose(product, identity)\n",
    "    \n",
    "matrix1 = np.array([[0, 1], [1, 0]])\n",
    "matrix2 = np.array([[np.sqrt(2)/2, np.sqrt(2)/2], [np.sqrt(2)/2, -np.sqrt(2)/2]])\n",
    "product = np.dot(matrix1, matrix2)\n",
    "\n",
    "print(\"Matriz 1 unitaria=\", is_unitary(matrix1))\n",
    "print(\"Matriz 2 unitaria=\", is_unitary(matrix2))\n",
    "print(\"Producto unitario=\", is_unitary(product))\n"
   ]
  },
  {
   "cell_type": "markdown",
   "metadata": {},
   "source": [
    "4.4.2 Determinar el estado del sistema después de tres pasos de tiempo. ¿Cuál es la probabilidad de que la bola cuántica se encuentre en el punto 3?\n",
    "\n",
    "# R/:"
   ]
  },
  {
   "cell_type": "code",
   "execution_count": 15,
   "metadata": {},
   "outputs": [
    {
     "name": "stdout",
     "output_type": "stream",
     "text": [
      "Resultado despues de un click:  [[0.        +0.j        ]\n",
      " [0.        +0.70710678j]\n",
      " [0.70710678+0.j        ]\n",
      " [0.        +0.j        ]]\n",
      "Resultado despues de dos click:  [[ 0.5+0.5j]\n",
      " [ 0. +0.j ]\n",
      " [ 0. +0.j ]\n",
      " [-0.5+0.5j]]\n",
      "Resultado despues de tres click  [[ 0.        +0.j        ]\n",
      " [-0.70710678+0.70710678j]\n",
      " [ 0.        +0.j        ]\n",
      " [ 0.        +0.j        ]]\n",
      "The probability is [0.+0.j]\n"
     ]
    }
   ],
   "source": [
    "import numpy as np\n",
    "\n",
    "m1 = np.array([[0,1/np.sqrt(2),1/np.sqrt(2),0], \n",
    "               [1j/np.sqrt(2),0,0,1/np.sqrt(2)], \n",
    "               [1/np.sqrt(2),0,0,1j/np.sqrt(2)],\n",
    "               [0,1/np.sqrt(2),-1/np.sqrt(2),0]])\n",
    "\n",
    "v1 = np.array([[1], [0], [0], [0]])\n",
    "click1 = np.dot(m1, v1)\n",
    "click2 = np.dot(m1, click1)\n",
    "click3 = np.dot(m1, click2)\n",
    "\n",
    "print(\"Resultado despues de un click: \", click1)\n",
    "print(\"Resultado despues de dos click: \", click2)\n",
    "print(\"Resultado despues de tres click \", click3)\n",
    "norm = np.linalg.norm(click3)\n",
    "probability = (click3[2] * (np.conj(click3[2]))) / (norm**2)\n",
    "print(\"The probability is\", probability)\n"
   ]
  }
 ],
 "metadata": {
  "kernelspec": {
   "display_name": "Python 3",
   "language": "python",
   "name": "python3"
  },
  "language_info": {
   "codemirror_mode": {
    "name": "ipython",
    "version": 3
   },
   "file_extension": ".py",
   "mimetype": "text/x-python",
   "name": "python",
   "nbconvert_exporter": "python",
   "pygments_lexer": "ipython3",
   "version": "3.13.1"
  }
 },
 "nbformat": 4,
 "nbformat_minor": 2
}
