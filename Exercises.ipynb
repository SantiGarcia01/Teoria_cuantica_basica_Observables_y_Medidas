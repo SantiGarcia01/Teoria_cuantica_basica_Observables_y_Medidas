{
 "cells": [
  {
   "cell_type": "markdown",
   "metadata": {},
   "source": [
    "## Simule el primer sistema cuántico descrito en la sección 4.1. ##\n",
    "\n",
    "El sistema consiste en una partícula confinada a un conjunto discreto de posiciones en una línea. El simulador debe permitir especificar el número de posiciones y un vector ket de estado asignando las amplitudes.\n",
    "\n",
    "1. El sistema debe calcular la probabilidad de encontrarlo en una posición en particular.\n",
    "\n",
    "# R/: #"
   ]
  },
  {
   "cell_type": "code",
   "execution_count": 2,
   "metadata": {},
   "outputs": [
    {
     "name": "stdout",
     "output_type": "stream",
     "text": [
      " La probabilidad de encontrarlo en una posición en particular es: 9.239130434782608 %\n"
     ]
    }
   ],
   "source": [
    "import numpy as np\n",
    "\n",
    "def norm(a):\n",
    "    norm_value = np.linalg.norm(a)\n",
    "    return norm_value\n",
    "\n",
    "def position_probability(ket, position):\n",
    "    numerator = norm(ket[position]) ** 2\n",
    "    denominator = norm(ket) ** 2\n",
    "    return numerator / denominator\n",
    "\n",
    "def main():\n",
    "    ket = np.array([[8-1j], [5-3j], [1+4j], [8+2j]])\n",
    "    probability = position_probability(ket, 2)\n",
    "    print(\" La probabilidad de encontrarlo en una posición en particular es:\", probability * 100, \"%\")\n",
    "main()"
   ]
  },
  {
   "cell_type": "markdown",
   "metadata": {},
   "source": [
    "2. El sistema si se le da otro vector Ket debe buscar la probabilidad de transitar del primer vector al segundo."
   ]
  },
  {
   "cell_type": "code",
   "execution_count": 6,
   "metadata": {},
   "outputs": [
    {
     "name": "stdout",
     "output_type": "stream",
     "text": [
      "La probabilidad de transitar del vector [[1.-4.j]\n",
      " [5.+1.j]] al vector [[2.+4.j]\n",
      " [1.-6.j]] es: 586.0000000000002\n"
     ]
    }
   ],
   "source": [
    "import numpy as np\n",
    "\n",
    "def transition_probability(ket1, ket2):\n",
    "    inner_product = np.vdot(ket2, ket1)\n",
    "    transition_prob = np.abs(inner_product)**2\n",
    "    return transition_prob\n",
    "\n",
    "def main():\n",
    "    ket1 = np.array([[1-4j], [5+1j]])\n",
    "    ket2 = np.array([[2+4j], [1-6j]])\n",
    "    transition_f = transition_probability(ket1, ket2)\n",
    "    print(f\"La probabilidad de transitar del vector {ket1} al vector {ket2} es:\", transition_f)\n",
    "\n",
    "main()\n"
   ]
  }
 ],
 "metadata": {
  "kernelspec": {
   "display_name": "base",
   "language": "python",
   "name": "python3"
  },
  "language_info": {
   "codemirror_mode": {
    "name": "ipython",
    "version": 3
   },
   "file_extension": ".py",
   "mimetype": "text/x-python",
   "name": "python",
   "nbconvert_exporter": "python",
   "pygments_lexer": "ipython3",
   "version": "3.11.7"
  }
 },
 "nbformat": 4,
 "nbformat_minor": 2
}
